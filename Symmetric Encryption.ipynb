{
 "cells": [
  {
   "cell_type": "code",
   "execution_count": 36,
   "metadata": {},
   "outputs": [],
   "source": [
    "import hashlib\n",
    "from Crypto import Random\n",
    "from Crypto.Cipher import AES\n",
    "from base64 import b64encode, b64decode\n",
    "import binascii\n",
    "import numpy as np\n",
    "import pandas as pd\n",
    "import time"
   ]
  },
  {
   "cell_type": "code",
   "execution_count": 37,
   "metadata": {},
   "outputs": [],
   "source": [
    "class AESCipher(object):\n",
    "    def __init__(self, key):\n",
    "        self.block_size = AES.block_size\n",
    "        self.key = hashlib.sha256(key.encode()).digest()\n",
    "\n",
    "    def encrypt(self, plain_text):\n",
    "        plain_text = self.__pad(plain_text)\n",
    "        iv = Random.new().read(self.block_size)\n",
    "        cipher = AES.new(self.key, AES.MODE_CBC, iv)\n",
    "        encrypted_text = cipher.encrypt(plain_text.encode())\n",
    "        return b64encode(iv + encrypted_text).decode(\"utf-8\")\n",
    "\n",
    "    def decrypt(self, encrypted_text):\n",
    "        encrypted_text = b64decode(encrypted_text)\n",
    "        iv = encrypted_text[:self.block_size]\n",
    "        cipher = AES.new(self.key, AES.MODE_CBC, iv)\n",
    "        plain_text = cipher.decrypt(encrypted_text[self.block_size:]).decode(\"utf-8\")\n",
    "        return self.__unpad(plain_text)\n",
    "\n",
    "    def __pad(self, plain_text):\n",
    "        number_of_bytes_to_pad = self.block_size - len(plain_text) % self.block_size\n",
    "        ascii_string = chr(number_of_bytes_to_pad)\n",
    "        padding_str = number_of_bytes_to_pad * ascii_string\n",
    "        padded_plain_text = plain_text + padding_str\n",
    "        return padded_plain_text\n",
    "\n",
    "    @staticmethod\n",
    "    def __unpad(plain_text):\n",
    "        last_character = plain_text[len(plain_text) - 1:]\n",
    "        return plain_text[:-ord(last_character)]"
   ]
  },
  {
   "cell_type": "code",
   "execution_count": 38,
   "metadata": {},
   "outputs": [],
   "source": [
    "new=AESCipher(\"#Password1\")"
   ]
  },
  {
   "cell_type": "code",
   "execution_count": 39,
   "metadata": {},
   "outputs": [
    {
     "name": "stdout",
     "output_type": "stream",
     "text": [
      "m9o9ebUIia1/kpikJWK5sH1P1q8C5ivi+EAtI7fDKFhMmbamZoIDssncKQLG7ZiZeG2M696WUKb5jNwBjIJr7m8AZe1gjvhBC3Hq4/z3Sso=\n"
     ]
    }
   ],
   "source": [
    "data=\"pviot key 1node dawnknkegkjwjqwJ JC VJVJKknwfklm ta\"\n",
    "enc=new.encrypt(data)\n",
    "print(enc)"
   ]
  },
  {
   "cell_type": "code",
   "execution_count": 40,
   "metadata": {},
   "outputs": [
    {
     "name": "stdout",
     "output_type": "stream",
     "text": [
      "pviot key 1node dawnknkegkjwjqwJ JC VJVJKknwfklm ta\n"
     ]
    }
   ],
   "source": [
    "dec=new.decrypt(enc)\n",
    "print(dec)"
   ]
  },
  {
   "cell_type": "code",
   "execution_count": 41,
   "metadata": {},
   "outputs": [],
   "source": [
    "df=pd.read_csv(\"churn1.csv\")"
   ]
  },
  {
   "cell_type": "code",
   "execution_count": 42,
   "metadata": {},
   "outputs": [
    {
     "name": "stdout",
     "output_type": "stream",
     "text": [
      "<class 'pandas.core.frame.DataFrame'>\n",
      "RangeIndex: 1048575 entries, 0 to 1048574\n",
      "Data columns (total 19 columns):\n",
      " #   Column                 Non-Null Count  Dtype  \n",
      "---  ------                 --------------  -----  \n",
      " 0   RowNumber              10000 non-null  float64\n",
      " 1   CustomerId             10000 non-null  object \n",
      " 2   CustomerId_ref_number  10000 non-null  float64\n",
      " 3   Surname                10000 non-null  object \n",
      " 4   CreditScore            10000 non-null  float64\n",
      " 5   Geography              10000 non-null  object \n",
      " 6   CountryCode            10000 non-null  object \n",
      " 7   Gender                 10000 non-null  object \n",
      " 8   Age                    10000 non-null  float64\n",
      " 9   Tenure                 10000 non-null  float64\n",
      " 10  Balance                10000 non-null  float64\n",
      " 11  NumOfProducts          10000 non-null  float64\n",
      " 12  HasCrCard              10000 non-null  float64\n",
      " 13  IsActiveMember         10000 non-null  float64\n",
      " 14  EstimatedSalary        10000 non-null  float64\n",
      " 15  Exited                 10000 non-null  float64\n",
      " 16  Unnamed: 16            0 non-null      float64\n",
      " 17  Unnamed: 17            2 non-null      object \n",
      " 18  Unnamed: 18            1 non-null      object \n",
      "dtypes: float64(12), object(7)\n",
      "memory usage: 152.0+ MB\n"
     ]
    }
   ],
   "source": [
    "df.info()"
   ]
  },
  {
   "cell_type": "code",
   "execution_count": 43,
   "metadata": {},
   "outputs": [],
   "source": [
    "df.drop(columns=['RowNumber','CustomerId_ref_number','Unnamed: 16','Unnamed: 17','Unnamed: 18'],axis=1,inplace=True)"
   ]
  },
  {
   "cell_type": "code",
   "execution_count": 44,
   "metadata": {},
   "outputs": [],
   "source": [
    "df.drop(df.index[10000:],inplace=True)"
   ]
  },
  {
   "cell_type": "code",
   "execution_count": 45,
   "metadata": {},
   "outputs": [],
   "source": [
    "val=df.CustomerId"
   ]
  },
  {
   "cell_type": "code",
   "execution_count": 46,
   "metadata": {},
   "outputs": [],
   "source": [
    "ans_enc=[]\n",
    "ans_dec=[]\n",
    "ans_time_enc=[]\n",
    "ans_time_dec=[]\n",
    "for i in range(len(val)):\n",
    "    start1 = time.perf_counter()\n",
    "    encrypted=new.encrypt(val[i])\n",
    "    stop1 = time.perf_counter()\n",
    "    #print(stop1,start1)\n",
    "    #print(\"Time for encryption of \",val[i],\"is \",stop1 - start1)\n",
    "    #time.sleep(0.001)\n",
    "    start2 = time.perf_counter()\n",
    "    decrypted=new.decrypt(encrypted)\n",
    "    stop2= time.perf_counter()\n",
    "    #print(start2,stop2)\n",
    "    #print(\"Time for decryption of \",decrypted,\"is \",stop2 - start2)\n",
    "    #print(\"Before Encryption: \",val[i])\n",
    "    #print(\"After Encryption : \",encrypted)\n",
    "    #print(\"Before Decryption: \",encrypted)\n",
    "    #print(\"After Decryption : \",decrypted)\n",
    "    #print()\n",
    "    ans_time_enc.append(stop1-start1)\n",
    "    ans_time_dec.append(stop2-start2)\n",
    "    ans_enc.append(encrypted)\n",
    "    ans_dec.append(decrypted)"
   ]
  },
  {
   "cell_type": "code",
   "execution_count": 48,
   "metadata": {},
   "outputs": [],
   "source": [
    "name_enc=[]\n",
    "name_dec=[]\n",
    "name_time_enc=[]\n",
    "name_time_dec=[]\n",
    "val=df.Surname\n",
    "for i in range(len(val)):\n",
    "    start1 = time.perf_counter()\n",
    "    encrypted=new.encrypt(val[i])\n",
    "    stop1 = time.perf_counter()\n",
    "    #time.sleep(0.3)\n",
    "    start2 = time.perf_counter()\n",
    "    decrypted=new.decrypt(encrypted)\n",
    "    stop2= time.perf_counter()\n",
    "    name_time_enc.append(stop1-start1)\n",
    "    name_time_dec.append(stop2-start2)\n",
    "    name_enc.append(encrypted)\n",
    "    name_dec.append(decrypted)\n",
    "    "
   ]
  },
  {
   "cell_type": "code",
   "execution_count": 49,
   "metadata": {},
   "outputs": [],
   "source": [
    "encryption_time_customerid_series=pd.Series(ans_time_enc)\n",
    "decryption_time_customerid_series=pd.Series(ans_time_dec)\n",
    "\n",
    "encryption_time_surname_series=pd.Series(name_time_enc)\n",
    "decryption_time_surname_series=pd.Series(name_time_dec)"
   ]
  },
  {
   "cell_type": "code",
   "execution_count": 50,
   "metadata": {},
   "outputs": [
    {
     "name": "stdout",
     "output_type": "stream",
     "text": [
      "There are  10000 values of surnames and customer IDs in the dataset\n",
      "Total time for encryption of Customer IDs is    :  0.6111812999970425 seconds\n",
      "Average time for encryption of 1 Customer ID is :  6.111812999970425e-05 seconds\n",
      "\n",
      "Total time decryption of customer IDs is        :  0.31801159999486117 seconds\n",
      "Average time for decryption of 1 customer ID is :  3.1801159999486116e-05 seconds\n",
      "\n",
      "Total time for encryption of Surnames is        :  0.5839773000152491 seconds\n",
      "Average time for encryption of 1 Surname is     :  6.111812999970425e-05 seconds\n",
      "\n",
      "Total time for decryption of Surnames is        :  0.3100345000179914 seconds\n",
      "Average time for decryption of 1 Surname is     :  3.100345000179914e-05 seconds\n"
     ]
    }
   ],
   "source": [
    "temp_time_arr_enc_custid=np.array(ans_time_enc)\n",
    "temp_time_arr_enc_surname=np.array(name_time_enc)\n",
    "temp_time_arr_dec_surname=np.array(ans_time_dec)\n",
    "temp_time_arr_dec_custid=np.array(name_time_dec)\n",
    "print(\"There are \",len(name_enc),\"values of surnames and customer IDs in the dataset\")\n",
    "print(\"Total time for encryption of Customer IDs is    : \",np.sum(temp_time_arr_enc_custid),\"seconds\")\n",
    "print(\"Average time for encryption of 1 Customer ID is : \",np.average(temp_time_arr_enc_custid),\"seconds\")\n",
    "print()\n",
    "print(\"Total time decryption of customer IDs is        : \",np.sum(temp_time_arr_dec_custid),\"seconds\")\n",
    "print(\"Average time for decryption of 1 customer ID is : \",np.average(temp_time_arr_dec_custid),\"seconds\")\n",
    "print()\n",
    "print(\"Total time for encryption of Surnames is        : \",np.sum(temp_time_arr_enc_surname),\"seconds\")\n",
    "print(\"Average time for encryption of 1 Surname is     : \",np.average(temp_time_arr_enc_custid),\"seconds\")\n",
    "print()\n",
    "print(\"Total time for decryption of Surnames is        : \",np.sum(temp_time_arr_dec_surname),\"seconds\")\n",
    "print('Average time for decryption of 1 Surname is     : ',np.average(temp_time_arr_dec_surname),\"seconds\")"
   ]
  },
  {
   "cell_type": "code",
   "execution_count": null,
   "metadata": {},
   "outputs": [],
   "source": []
  }
 ],
 "metadata": {
  "kernelspec": {
   "display_name": "Python 3",
   "language": "python",
   "name": "python3"
  },
  "language_info": {
   "codemirror_mode": {
    "name": "ipython",
    "version": 3
   },
   "file_extension": ".py",
   "mimetype": "text/x-python",
   "name": "python",
   "nbconvert_exporter": "python",
   "pygments_lexer": "ipython3",
   "version": "3.7.6"
  }
 },
 "nbformat": 4,
 "nbformat_minor": 4
}
