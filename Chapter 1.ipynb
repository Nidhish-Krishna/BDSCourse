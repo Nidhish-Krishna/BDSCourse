{
 "cells": [
  {
   "cell_type": "markdown",
   "metadata": {},
   "source": [
    "### 1. GCD calculation using Euclidean Algorithm"
   ]
  },
  {
   "cell_type": "markdown",
   "metadata": {},
   "source": [
    "The Euclidean Algorithm for finding GCD(A,B) is as follows:\n",
    "    If A = 0 then GCD(A,B)=B, since the GCD(0,B)=B, and we can stop.  \n",
    "    If B = 0 then GCD(A,B)=A, since the GCD(A,0)=A, and we can stop.  \n",
    "    Write A in quotient remainder form (A = B⋅Q + R)\n",
    "    Find GCD(B,R) using the Euclidean Algorithm since GCD(A,B) = GCD(B,R)"
   ]
  },
  {
   "cell_type": "code",
   "execution_count": 2,
   "metadata": {},
   "outputs": [],
   "source": [
    "import time\n",
    "def GCD(a,b):\n",
    "    while True:\n",
    "        r=a%b\n",
    "        if not r:\n",
    "            break\n",
    "        a=b\n",
    "        b=r\n",
    "    return b\n"
   ]
  },
  {
   "cell_type": "code",
   "execution_count": 3,
   "metadata": {},
   "outputs": [
    {
     "name": "stdout",
     "output_type": "stream",
     "text": [
      "Enter a number: 1221\n",
      "Enter a number: 1234567891011121314151617181920212223242526272829\n",
      "3\n",
      "Time taken to calculate GCD for the above given numbers is  0.0001682000000755579 seconds\n"
     ]
    }
   ],
   "source": [
    "a=int(input(\"Enter a number: \"))\n",
    "b=int(input(\"Enter a number: \"))\n",
    "#a,b=1221,1234567891011121314151617181920212223242526272829\n",
    "start=time.perf_counter()\n",
    "gcd=GCD(a,b)\n",
    "stop=time.perf_counter()\n",
    "print(gcd)\n",
    "print(\"Time taken to calculate GCD for the above given numbers is \",stop-start,\"seconds\")\n",
    "#1221\n",
    "#1234567891011121314151617181920212223242526272829"
   ]
  },
  {
   "cell_type": "markdown",
   "metadata": {},
   "source": [
    "### 2. Multiplicative Inverse calculation"
   ]
  },
  {
   "cell_type": "code",
   "execution_count": 4,
   "metadata": {},
   "outputs": [],
   "source": [
    "#Extended Euclidean Algorithm\n",
    "def eea(a,b):\n",
    "    if(a%b==0):\n",
    "        return(b,0,1)\n",
    "    else:\n",
    "        gcd,s,t = eea(b,a%b)\n",
    "        s = s-((a//b) * t)\n",
    "        print(\"%d = %d*(%d) + (%d)*(%d)\"%(gcd,a,t,s,b))\n",
    "        return(gcd,t,s)\n",
    "    \n",
    "def mult_inv(e,r):\n",
    "    gcd,s,_=eea(e,r)\n",
    "    if(gcd!=1):\n",
    "        return None\n",
    "    else:\n",
    "        if(s<0):\n",
    "            print(\"s=%d. Since %d is less than 0, s = s(modr), i.e., s=%d.\"%(s,s,s%r))\n",
    "        elif(s>0):\n",
    "            print(\"s=%d.\"%(s))\n",
    "        return s%r"
   ]
  },
  {
   "cell_type": "code",
   "execution_count": 5,
   "metadata": {},
   "outputs": [
    {
     "name": "stdout",
     "output_type": "stream",
     "text": [
      "1 = 8*(1) + (-1)*(7)\n",
      "1 = 31*(-1) + (4)*(8)\n",
      "1 = 3480*(4) + (-449)*(31)\n",
      "1 = 31*(-449) + (4)*(3480)\n",
      "s=-449. Since -449 is less than 0, s = s(modr), i.e., s=3031.\n",
      "Answer is 3031\n",
      "Time taken to calculate multiplicative inverse is 0.007984200000009878 seconds\n"
     ]
    }
   ],
   "source": [
    "start=time.perf_counter()\n",
    "a=mult_inv(31,3480)  #(31^-1) mod 3480\n",
    "stop=time.perf_counter()\n",
    "\n",
    "print(\"Answer is\",a)\n",
    "print(\"Time taken to calculate multiplicative inverse is\",stop-start,\"seconds\")"
   ]
  },
  {
   "cell_type": "markdown",
   "metadata": {},
   "source": [
    "### 3. Primality Check"
   ]
  },
  {
   "cell_type": "code",
   "execution_count": 6,
   "metadata": {},
   "outputs": [],
   "source": [
    "def prime_number_check(n):\n",
    "    if n<=0:\n",
    "        return False\n",
    "    \n",
    "    if n==1:\n",
    "        return False\n",
    "    i=2\n",
    "    \n",
    "    while i**2 <= n:\n",
    "        if n%i == 0:\n",
    "            return False\n",
    "        i+=1\n",
    "        \n",
    "    return True"
   ]
  },
  {
   "cell_type": "code",
   "execution_count": 7,
   "metadata": {},
   "outputs": [
    {
     "name": "stdout",
     "output_type": "stream",
     "text": [
      "Enter a number: 3001\n",
      "3001 is a prime number\n",
      "time taken to check the above given primality is  0.00017239999999674183 seconds\n"
     ]
    }
   ],
   "source": [
    "p=int(input(\"Enter a number: \"))\n",
    "\n",
    "start=time.perf_counter()\n",
    "f=prime_number_check(p)\n",
    "stop=time.perf_counter()\n",
    "#1234567891011121314151617181920212223242526272829\n",
    "#\n",
    "\n",
    "if f is True:\n",
    "    print(p,\"is a prime number\")\n",
    "else:\n",
    "    print(p,\"is not a prime number\")\n",
    "    \n",
    "print(\"time taken to check the above given primality is \",stop-start,\"seconds\")"
   ]
  },
  {
   "cell_type": "markdown",
   "metadata": {},
   "source": [
    "### 4. Primitive Element calculator"
   ]
  },
  {
   "cell_type": "code",
   "execution_count": 8,
   "metadata": {},
   "outputs": [],
   "source": [
    "import time\n",
    "def gcd(a,b):\n",
    "    while b != 0:\n",
    "        a, b = b, a % b\n",
    "    return a\n",
    "\n",
    "def primRoots(modulo):\n",
    "    roots = []\n",
    "    required_set = set(num for num in range (1, modulo) if gcd(num, modulo) == 1)\n",
    "\n",
    "    for g in range(1, modulo):\n",
    "        actual_set = set(pow(g, powers) % modulo for powers in range (1, modulo))\n",
    "        if required_set == actual_set:\n",
    "            roots.append(g)           \n",
    "    return roots"
   ]
  },
  {
   "cell_type": "code",
   "execution_count": 9,
   "metadata": {},
   "outputs": [
    {
     "name": "stdout",
     "output_type": "stream",
     "text": [
      "[3, 6, 12, 15, 17, 19, 24, 29, 30, 33, 34, 35, 38, 39, 47, 48, 58, 60, 63, 66, 67, 68, 69, 70, 76, 77, 78, 83, 94, 95, 96, 109, 111, 113, 116, 123, 126, 127, 132, 134, 135, 136, 138, 145, 147, 149, 151, 152, 153, 154, 156, 159, 161, 163, 166, 175, 177, 181, 183, 188, 190, 192, 195, 199, 209, 213, 215, 217, 218, 221, 222, 226, 232, 235, 239, 240, 241, 243, 246, 247, 252, 254, 264, 269, 270, 272, 276, 277, 280, 287, 290, 294, 297, 298, 302, 303, 304, 306, 308, 309, 312, 317, 318, 319, 321, 322, 326, 350, 353, 354, 359, 362, 365, 366, 371, 375, 376, 377, 379, 380, 384, 385, 387, 398, 399, 411, 413, 417, 418, 425, 426, 427, 429, 430, 433, 434, 436, 437, 442, 443, 444, 445, 449, 452, 464, 465, 470, 471, 473, 478, 480, 482, 485, 486, 492, 494, 497, 504, 507, 508, 517, 519, 527, 528, 536, 537, 538, 540, 544, 545, 552, 553, 554, 555, 560, 567, 569, 574, 577, 579, 580, 588, 591, 594, 596, 603, 604, 606, 607, 608, 609, 611, 612, 616, 618, 621, 624, 629, 634, 636, 638, 642, 644, 655, 657, 664, 667, 669, 675, 677, 687, 691, 699, 700, 701, 703, 706, 708, 709, 718, 719, 724, 730, 732, 733, 735, 742, 743, 747, 749, 750, 752, 754, 758, 760, 765, 768, 770, 774, 779, 780, 796, 797, 798, 801, 803, 805, 813, 819, 822, 825, 826, 833, 834, 835, 836, 837, 843, 847, 850, 852, 854, 855, 858, 860, 863, 866, 867, 868, 872, 873, 874, 877, 883, 884, 886, 887, 888, 890, 897, 898, 903, 904, 907, 910, 921, 928, 929, 930, 931, 933, 935, 939, 940, 941, 942, 946, 947, 956, 959, 960, 964, 967, 969, 970, 971, 972, 973, 984, 987, 988, 989, 994, 995, 997, 1001, 1007, 1009, 1014, 1016, 1017, 1019, 1023, 1031, 1033, 1034, 1038, 1041, 1047, 1054, 1055, 1056, 1061, 1063, 1067, 1072, 1073, 1074, 1075, 1076, 1080, 1081, 1087, 1088, 1090, 1091, 1097, 1099, 1104, 1106, 1107, 1108, 1110, 1117, 1119, 1120, 1121, 1123, 1134, 1138, 1143, 1148, 1151, 1154, 1158, 1159, 1160, 1179, 1182, 1185, 1187, 1188, 1189, 1192, 1193, 1199, 1205, 1206, 1208, 1212, 1213, 1214, 1216, 1218, 1221, 1222, 1224, 1227, 1232, 1235, 1236, 1242, 1248, 1253, 1258, 1259, 1263, 1268, 1272, 1276, 1283, 1284, 1288, 1289, 1295, 1301, 1303, 1304, 1305, 1310, 1314, 1327, 1328, 1333, 1334, 1337, 1338, 1341, 1343, 1345, 1349, 1350, 1351, 1354, 1359, 1366, 1367, 1371, 1373, 1374, 1382, 1389, 1398, 1400, 1401, 1402, 1406, 1409, 1412, 1416, 1417, 1418, 1421, 1423, 1431, 1433, 1435, 1436, 1438, 1441, 1443, 1448, 1451, 1453, 1460, 1464, 1465, 1466, 1467, 1469, 1470, 1473, 1479, 1483, 1484, 1485, 1486, 1489, 1493, 1494, 1497, 1498, 1500, 1503, 1504, 1508, 1509, 1511, 1515, 1516, 1520, 1523, 1527, 1530, 1531, 1533, 1536, 1537, 1539, 1540, 1543, 1545, 1548, 1549, 1553, 1558, 1559, 1560, 1561, 1571, 1575, 1579, 1589, 1593, 1594, 1596, 1599, 1602, 1606, 1610, 1613, 1617, 1626, 1629, 1631, 1638, 1641, 1644, 1647, 1650, 1651, 1652, 1663, 1666, 1668, 1670, 1671, 1672, 1674, 1675, 1679, 1683, 1685, 1686, 1694, 1700, 1704, 1708, 1710, 1711, 1713, 1715, 1716, 1717, 1721, 1725, 1726, 1732, 1733, 1734, 1736, 1739, 1741, 1742, 1744, 1746, 1748, 1751, 1754, 1755, 1757, 1761, 1763, 1765, 1766, 1768, 1769, 1771, 1772, 1774, 1776, 1779, 1780, 1785, 1787, 1789, 1794, 1796, 1799, 1806, 1808, 1814, 1815, 1820, 1825, 1831, 1835, 1837, 1839, 1841, 1842, 1855, 1856, 1857, 1858, 1860, 1862, 1866, 1869, 1870, 1875, 1877, 1878, 1880, 1881, 1882, 1884, 1885, 1889, 1892, 1893, 1894, 1899, 1907, 1911, 1912, 1915, 1917, 1918, 1919, 1920, 1927, 1928, 1934, 1937, 1938, 1940, 1942, 1944, 1946, 1949, 1953, 1955, 1957, 1958, 1959, 1963, 1968, 1974, 1976, 1977, 1978, 1979, 1981, 1988, 1989, 1990, 1994]\n",
      "The program took  129.57109780000008 seconds to run for the prime number  1999\n"
     ]
    }
   ],
   "source": [
    "p = 1999\n",
    "start=time.perf_counter()\n",
    "primitive_roots = primRoots(p)\n",
    "stop=time.perf_counter()\n",
    "print(primitive_roots)\n",
    "print(\"The program took \",stop-start,\"seconds to run for the prime number \",p)"
   ]
  },
  {
   "cell_type": "code",
   "execution_count": 10,
   "metadata": {},
   "outputs": [
    {
     "name": "stdout",
     "output_type": "stream",
     "text": [
      "The program took  0.2345262000000048 seconds to run for the prime number  317\n"
     ]
    }
   ],
   "source": [
    "p =  317\n",
    "start=time.perf_counter()\n",
    "primitive_roots = primRoots(p)\n",
    "stop=time.perf_counter()\n",
    "print(\"The program took \",stop-start,\"seconds to run for the prime number \",p)"
   ]
  },
  {
   "cell_type": "markdown",
   "metadata": {},
   "source": [
    "### 5. Exponentiation"
   ]
  },
  {
   "cell_type": "code",
   "execution_count": 11,
   "metadata": {},
   "outputs": [],
   "source": [
    "def exp(a,b):\n",
    "    \n",
    "    if b<0:\n",
    "        return -1\n",
    "    \n",
    "    else:\n",
    "        return a**b"
   ]
  },
  {
   "cell_type": "code",
   "execution_count": 12,
   "metadata": {},
   "outputs": [
    {
     "name": "stdout",
     "output_type": "stream",
     "text": [
      "15286700631942576193765185769276826401\n",
      "Time taken to calculate the given exponentiation is  0.0004022000000531989  seconds\n"
     ]
    }
   ],
   "source": [
    "start=time.perf_counter()\n",
    "a=exp(7,44)\n",
    "stop=time.perf_counter()\n",
    "print(a)\n",
    "\n",
    "print(\"Time taken to calculate the given exponentiation is \",stop-start,\" seconds\")\n"
   ]
  },
  {
   "cell_type": "code",
   "execution_count": 42,
   "metadata": {},
   "outputs": [
    {
     "data": {
      "image/png": "[encoded data removed]",
      "text/plain": [
       "<Figure size 432x288 with 1 Axes>"
      ]
     },
     "metadata": {
      "needs_background": "light"
     },
     "output_type": "display_data"
    }
   ],
   "source": [
    "import matplotlib.pyplot as plt\n",
    " \n",
    "x = [i for i in range(1,51)]\n",
    "y = []\n",
    "for i in range(1,51):\n",
    "    start=time.perf_counter()\n",
    "    a=exp(7,i)\n",
    "    stop=time.perf_counter()\n",
    "    y.append(stop-start)\n",
    "plt.plot(x, y)\n",
    "plt.xlabel('Exponent values')\n",
    "plt.ylabel('Calculation time in seconds')\n",
    "plt.title('Run-time v exponent values')\n",
    "plt.show()"
   ]
  }
 ],
 "metadata": {
  "kernelspec": {
   "display_name": "Python 3",
   "language": "python",
   "name": "python3"
  },
  "language_info": {
   "codemirror_mode": {
    "name": "ipython",
    "version": 3
   },
   "file_extension": ".py",
   "mimetype": "text/x-python",
   "name": "python",
   "nbconvert_exporter": "python",
   "pygments_lexer": "ipython3",
   "version": "3.7.6"
  }
 },
 "nbformat": 4,
 "nbformat_minor": 4
}
